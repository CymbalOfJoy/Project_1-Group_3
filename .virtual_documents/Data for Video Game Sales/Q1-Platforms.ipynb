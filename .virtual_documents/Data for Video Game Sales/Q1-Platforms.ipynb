import pandas as pd
import matplotlib.pyplot as plt


video_game_data = "vgsales_clean.csv"
df = pd.read_csv(video_game_data)
print(df.shape)
df.head()


df.info()


total_platform_sales_NA = df.groupby('Platform')['NA_Sales'].sum().reset_index()
print(total_platform_sales_NA)


# Bar Chart 1 NA Platform Sales

total_platform_sales_NA.plot(x='Platform', y='NA_Sales', kind='bar', figsize=(10,5), color='#ef6f6c')
plt.title('NA Platform Sales')
plt.xlabel('Platform')
plt.ylabel('NA_Sales')
plt.xticks(rotation=45)
plt.show()


total_platform_sales_EU = df.groupby('Platform')['EU_Sales'].sum().reset_index()
print(total_platform_sales_EU)


# Bar Chart 2 EU Platform Sales

total_platform_sales_EU.plot(x='Platform', y='EU_Sales', kind='bar', figsize=(10,5), color='#7f96ff')
plt.title('EU Platform Sales')
plt.xlabel('Platform')
plt.ylabel('EU_Sales')
plt.xticks(rotation=45)
plt.show()


total_platform_sales_JP = df.groupby('Platform')['JP_Sales'].sum().reset_index()
print(total_platform_sales_JP)


# Bar Chart 3 JP Platform Sales

total_platform_sales_JP.plot(x='Platform', y='JP_Sales', kind='bar', figsize=(10,5), color='#77ff94')
plt.title('JP Platform Sales')
plt.xlabel('Platform')
plt.ylabel('JP_Sales')
plt.xticks(rotation=45)
plt.show()


total_platform_sales_Other = df.groupby('Platform')['Other_Sales'].sum().reset_index()
print(total_platform_sales_Other)


# Bar Chart 4 Other Platform Sales

total_platform_sales_Other.plot(x='Platform', y='Other_Sales', kind='bar', figsize=(10,5), color='#63458a')
plt.title('Other Platform Sales')
plt.xlabel('Platform')
plt.ylabel('Other_Sales')
plt.xticks(rotation=45)
plt.show()



