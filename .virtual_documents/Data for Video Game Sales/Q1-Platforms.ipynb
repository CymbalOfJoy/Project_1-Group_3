import pandas as pd


filepath = "vgsales_clean.csv"
df= pd.read_csv(filepath)
df.head()






