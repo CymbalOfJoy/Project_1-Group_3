import pandas as pd


filepath = "vgsales.csv"
df= pd.read_csv(filepath)
df.head()


df.info()
