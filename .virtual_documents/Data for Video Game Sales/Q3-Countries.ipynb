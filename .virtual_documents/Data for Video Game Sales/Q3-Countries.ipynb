import folium
import pandas as pd
import geopandas as gpd
import geoviews as gv
from bokeh.io import output_notebook
from bokeh.plotting import show


GAME_DATA_PATH = "vgsales_clean.csv"
MAP_CENTER = [0, 0]
MAP_ZOOM = 2
EU_LAT = 54.5260
EU_LON = 15.2551
JP_LAT = 36.2048
JP_LON = 138.2529
NA_LAT = 39.30
NA_LON = -94.71
EU_COLOR = 'yellow'
JP_COLOR = 'red'
NA_COLOR = 'blue'
LOC_DATA = {
    'EU_Sales': {'lat': 54.53, 'lon': 15.26, 'color': '#7F96FF',},
    'JP_Sales': {'lat': 36.20, 'lon': 138.25, 'color': '#77FF94',},
    'NA_Sales': {'lat': 39.30, 'lon': -94.71, 'color': '#EF6F6C',},
}


df = pd.read_csv(GAME_DATA_PATH )
print(df.shape)
df.head()


df.info()


df_melted = df.melt(id_vars=['Rank','Genre'], value_vars=['NA_Sales', 'EU_Sales', 'JP_Sales'], var_name='region', value_name='sales')
print(df_melted.shape)
df_melted.head(3)


total_genre_sales = df_melted.groupby(['Genre','region']).sum().reset_index()
for region, vals in LOC_DATA.items():
    mask_s = total_genre_sales.region == region
    total_genre_sales.loc[mask_s, 'lat'] = vals['lat']
    total_genre_sales.loc[mask_s, 'lon'] = vals['lon']
    total_genre_sales.loc[mask_s, 'color'] = vals['color']
print(total_genre_sales.shape)
total_genre_sales.head()


# Action data frame

action_df = total_genre_sales.loc[total_genre_sales['Genre']=='Action'].copy()
print(action_df.shape)
action_df.head(3)


# Create a map centered around the average latitude and longitude

my_map=folium.Map(location=MAP_CENTER, zoom_start=MAP_ZOOM)

# Loop through the DataFrame and add CircleMarkers to the map
for idx, row in action_df.iterrows():
    folium.CircleMarker(
        location=[row['lat'], row['lon']],  # Set the location based on lat and lon
        radius=row['sales'] / 10,  # Size is based on the 'size' column, divided to scale it properly
        color=row['color'],  # Marker color
        fill=True,
        fill_color=row['color'],  # Fill color
        fill_opacity=0.6,
        # popup=f"Size: {row['size']}",  # Add popup with size info
    ).add_to(my_map)

my_map


# Sports data frame

sports_df = total_genre_sales.loc[total_genre_sales['Genre']=='Sports'].copy()
print(sports_df.shape)
sports_df.head(3)


# Create a map centered around the average latitude and longitude

my_map=folium.Map(location=MAP_CENTER, zoom_start=MAP_ZOOM)

# Loop through the DataFrame and add CircleMarkers to the map
for idx, row in sports_df.iterrows():
    folium.CircleMarker(
        location=[row['lat'], row['lon']],  # Set the location based on lat and lon
        radius=row['sales'] / 10,  # Size is based on the 'size' column, divided to scale it properly
        color=row['color'],  # Marker color
        fill=True,
        fill_color=row['color'],  # Fill color
        fill_opacity=0.6,
        # popup=f"Size: {row['size']}",  # Add popup with size info
    ).add_to(my_map)

my_map


# Shooter sales data frame
shooter_df = total_genre_sales.loc[total_genre_sales['Genre']=='Shooter'].copy()
print(shooter_df.shape)
shooter_df.head(3)


# Create a map centered around the average latitude and longitude

my_map=folium.Map(location=MAP_CENTER, zoom_start=MAP_ZOOM)

# Loop through the DataFrame and add CircleMarkers to the map
for idx, row in shooter_df.iterrows():
    folium.CircleMarker(
        location=[row['lat'], row['lon']],  # Set the location based on lat and lon
        radius=row['sales'] / 10,  # Size is based on the 'size' column, divided to scale it properly
        color=row['color'],  # Marker color
        fill=True,
        fill_color=row['color'],  # Fill color
        fill_opacity=0.6,
        # popup=f"Size: {row['size']}",  # Add popup with size info
    ).add_to(my_map)
    
my_map
