import pandas as pd


filepath = "vgsales.csv"
df= pd.read_csv(filepath)
df.head()



df.info()



#df.dropna to drop null rows
# we dropped 307 rows


df=df.dropna().reset_index(drop=True)
df.info()


307/16598


df.to_csv("vgsales_clean.csv", index=False)



